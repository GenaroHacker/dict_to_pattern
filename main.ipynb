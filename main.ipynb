{
  "nbformat": 4,
  "nbformat_minor": 0,
  "metadata": {
    "colab": {
      "provenance": [],
      "authorship_tag": "ABX9TyMuz4P+eTlsHpL3dOg80QFh",
      "include_colab_link": true
    },
    "kernelspec": {
      "name": "python3",
      "display_name": "Python 3"
    },
    "language_info": {
      "name": "python"
    }
  },
  "cells": [
    {
      "cell_type": "markdown",
      "metadata": {
        "id": "view-in-github",
        "colab_type": "text"
      },
      "source": [
        "<a href=\"https://colab.research.google.com/github/GenaroHacker/dict_to_pattern/blob/main/main.ipynb\" target=\"_parent\"><img src=\"https://colab.research.google.com/assets/colab-badge.svg\" alt=\"Open In Colab\"/></a>"
      ]
    },
    {
      "cell_type": "code",
      "execution_count": 1,
      "metadata": {
        "id": "a10dKvHmxoze",
        "cellView": "form"
      },
      "outputs": [],
      "source": [
        "%%capture\n",
        "#@title Set Up\n",
        "!git clone https://github.com/GenaroHacker/dict_to_pattern.git\n",
        "import os\n",
        "os.chdir('/content/dict_to_pattern/skaffolders/facade')\n",
        "from dict_to_pattern.skaffolders.facade.project_creator import FacadeProjectCreator\n",
        "os.chdir('/content')\n",
        "\n",
        "import shutil\n",
        "import os\n",
        "from google.colab import files\n",
        "\n",
        "def compress_and_download(dir_path):\n",
        "    # Get the directory name\n",
        "    dir_name = os.path.basename(os.path.normpath(dir_path))\n",
        "\n",
        "    # Define the name of the zip file\n",
        "    zip_file = f\"{dir_name}.zip\"\n",
        "\n",
        "    # Temporary directory to hold the project folder\n",
        "    temp_dir = \"/content/temp\"\n",
        "    if not os.path.exists(temp_dir):\n",
        "        os.makedirs(temp_dir)\n",
        "\n",
        "    # Create a new directory inside the temp directory\n",
        "    temp_project_dir = os.path.join(temp_dir, dir_name)\n",
        "    shutil.copytree(dir_path, temp_project_dir)\n",
        "\n",
        "    # Compress the temporary project directory\n",
        "    shutil.make_archive(os.path.join(temp_dir, dir_name), 'zip', temp_dir, dir_name)\n",
        "\n",
        "    # Move the zip file to the current directory\n",
        "    shutil.move(os.path.join(temp_dir, f\"{dir_name}.zip\"), f\"/content/{zip_file}\")\n",
        "\n",
        "    # Clean up the temporary directory\n",
        "    shutil.rmtree(temp_dir)\n",
        "\n",
        "    # Download the zip file\n",
        "    files.download(f\"/content/{zip_file}\")\n",
        "\n",
        "import subprocess\n",
        "def run_tests(test_file_path):\n",
        "    \"\"\"\n",
        "    Run pytest on the specified test file path.\n",
        "\n",
        "    Parameters:\n",
        "    test_file_path (str): The path to the test file or directory.\n",
        "\n",
        "    Returns:\n",
        "    None\n",
        "    \"\"\"\n",
        "    result = subprocess.run(['pytest', test_file_path], stdout=subprocess.PIPE, stderr=subprocess.PIPE)\n",
        "    print(result.stdout.decode())\n",
        "    print(result.stderr.decode())\n"
      ]
    },
    {
      "cell_type": "code",
      "source": [
        "# @title Facade Skaffolder\n",
        "if __name__ == \"__main__\":\n",
        "    project_name = \"FacadeProject\"\n",
        "    project_structure = {\n",
        "        \"Car\": {\n",
        "            \"Engine\": {\n",
        "                \"Cylinders\": {},\n",
        "                \"Pistons\": {}\n",
        "            },\n",
        "            \"Chassis\": {}\n",
        "        },\n",
        "        \"Driver\": {}\n",
        "    }\n",
        "\n",
        "    creator = FacadeProjectCreator(project_name, project_structure)\n",
        "    creator.create_project()\n",
        "    run_tests(project_name)\n",
        "    compress_and_download(project_name)\n"
      ],
      "metadata": {
        "colab": {
          "base_uri": "https://localhost:8080/",
          "height": 263
        },
        "cellView": "form",
        "id": "GGHHGQLjUgSD",
        "outputId": "0357d341-92c1-4ea8-9a5a-fa160826df65"
      },
      "execution_count": 3,
      "outputs": [
        {
          "output_type": "stream",
          "name": "stdout",
          "text": [
            "======================================= test session starts ========================================\n",
            "platform linux -- Python 3.10.12, pytest-7.4.4, pluggy-1.5.0\n",
            "rootdir: /content/FacadeProject\n",
            "configfile: pytest.ini\n",
            "plugins: anyio-3.7.1\n",
            "collected 4 items\n",
            "\n",
            "FacadeProject/tests/test_car.py ...                                                          [ 75%]\n",
            "FacadeProject/tests/test_driver.py .                                                         [100%]\n",
            "\n",
            "======================================== 4 passed in 0.03s =========================================\n",
            "\n",
            "\n"
          ]
        },
        {
          "output_type": "display_data",
          "data": {
            "text/plain": [
              "<IPython.core.display.Javascript object>"
            ],
            "application/javascript": [
              "\n",
              "    async function download(id, filename, size) {\n",
              "      if (!google.colab.kernel.accessAllowed) {\n",
              "        return;\n",
              "      }\n",
              "      const div = document.createElement('div');\n",
              "      const label = document.createElement('label');\n",
              "      label.textContent = `Downloading \"${filename}\": `;\n",
              "      div.appendChild(label);\n",
              "      const progress = document.createElement('progress');\n",
              "      progress.max = size;\n",
              "      div.appendChild(progress);\n",
              "      document.body.appendChild(div);\n",
              "\n",
              "      const buffers = [];\n",
              "      let downloaded = 0;\n",
              "\n",
              "      const channel = await google.colab.kernel.comms.open(id);\n",
              "      // Send a message to notify the kernel that we're ready.\n",
              "      channel.send({})\n",
              "\n",
              "      for await (const message of channel.messages) {\n",
              "        // Send a message to notify the kernel that we're ready.\n",
              "        channel.send({})\n",
              "        if (message.buffers) {\n",
              "          for (const buffer of message.buffers) {\n",
              "            buffers.push(buffer);\n",
              "            downloaded += buffer.byteLength;\n",
              "            progress.value = downloaded;\n",
              "          }\n",
              "        }\n",
              "      }\n",
              "      const blob = new Blob(buffers, {type: 'application/binary'});\n",
              "      const a = document.createElement('a');\n",
              "      a.href = window.URL.createObjectURL(blob);\n",
              "      a.download = filename;\n",
              "      div.appendChild(a);\n",
              "      a.click();\n",
              "      div.remove();\n",
              "    }\n",
              "  "
            ]
          },
          "metadata": {}
        },
        {
          "output_type": "display_data",
          "data": {
            "text/plain": [
              "<IPython.core.display.Javascript object>"
            ],
            "application/javascript": [
              "download(\"download_46d6a830-fb2b-4931-8954-fdfa0300b4c0\", \"FacadeProject.zip\", 12900)"
            ]
          },
          "metadata": {}
        }
      ]
    }
  ]
}